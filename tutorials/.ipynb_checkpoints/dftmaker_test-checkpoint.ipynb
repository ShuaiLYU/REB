{
 "cells": [
  {
   "cell_type": "code",
   "execution_count": 1,
   "id": "1ce5506d-df70-4d3b-8251-4db649cc0141",
   "metadata": {},
   "outputs": [
    {
     "name": "stderr",
     "output_type": "stream",
     "text": [
      "/nfsmount/shuai.lyu/Anaconda3/envs/torch112/lib/python3.10/site-packages/tqdm/auto.py:22: TqdmWarning: IProgress not found. Please update jupyter and ipywidgets. See https://ipywidgets.readthedocs.io/en/stable/user_install.html\n",
      "  from .autonotebook import tqdm as notebook_tqdm\n"
     ]
    }
   ],
   "source": [
    "\n",
    "from Dataset.mvtec_data import MVTecAT\n",
    "from DMlib.cut_paste import get_cut_paste\n",
    "from Dataset import DatasetWrapper\n",
    "# from Dataset.transforms import RandomTranspose\n",
    "\n",
    "from torchvision import  transforms\n",
    "import numbers\n",
    "import  collections\n",
    "import random\n",
    "from torchvision.transforms import functional as F\n",
    "import torch\n",
    "from PIL import Image\n",
    "import  numpy as np\n",
    "import math\n",
    "  \n",
    "from torchvision import transforms\n",
    "import os\n",
    "from Dataset.transforms import RandomTranspose,RandomResizedCrop   \n",
    "\n",
    "def run_generator(dataset,output_dir,num_generate):\n",
    "\n",
    "    def check_dir(data_dir):\n",
    "        if not os.path.exists(data_dir):\n",
    "            os.makedirs(data_dir)  \n",
    "\n",
    "    check_dir(os.path.join(output_dir,\"good\"))\n",
    "    check_dir(os.path.join(output_dir,\"cp_img\"))\n",
    "    check_dir(os.path.join(output_dir,\"cps_img\"))\n",
    "\n",
    "    from tqdm import tqdm\n",
    "\n",
    "    for idx in tqdm(range(num_generate)):\n",
    "\n",
    "\n",
    "        item=cp_data[idx%len(cp_data)]\n",
    "\n",
    "        img=item[\"img\"]\n",
    "        img_path=os.path.join(output_dir,\"good\",str(idx).zfill(5)+\".png\")\n",
    "        img.save(img_path,quality=95)    \n",
    "        saliency=item[\"saliency\"]\n",
    "        if saliency is not None:\n",
    "            saliency_path=os.path.join(output_dir,\"good\",str(idx).zfill(5)+\"_saliency.jpg\")\n",
    "            saliency.save(saliency_path,quality=95)\n",
    "\n",
    "        cp_img=item[\"cp_img\"]\n",
    "        cp_img_path=os.path.join(output_dir,\"cp_img\",str(idx).zfill(5)+\".png\")\n",
    "        cp_img.save(cp_img_path,quality=95)\n",
    "        cp_mask=item[\"cp_ins\"].get_imshow_mask()\n",
    "        cp_mask_path=os.path.join(output_dir,\"cp_img\",str(idx).zfill(5)+\"_mask.jpg\")\n",
    "        cp_mask.save(cp_mask_path,quality=95)\n",
    "\n",
    "        cps_img=item[\"cps_img\"]\n",
    "        cps_img_path=os.path.join(output_dir,\"cps_img\",str(idx).zfill(5)+\".png\")\n",
    "        cps_img.save(cps_img_path,quality=95)\n",
    "        cps_mask=item[\"cps_ins\"].get_imshow_mask()\n",
    "        cps_mask_path=os.path.join(output_dir,\"cps_img\",str(idx).zfill(5)+\"_mask.jpg\")\n",
    "        cps_mask.save(cps_mask_path,quality=95)\n",
    "        \n",
    "all_types = ['bottle',\n",
    "             'cable',\n",
    "             'capsule',\n",
    "             'carpet',\n",
    "             'grid',\n",
    "             'hazelnut',\n",
    "             'leather',\n",
    "             'metal_nut',\n",
    "             'pill',\n",
    "             'screw',\n",
    "             'tile',\n",
    "             'toothbrush',\n",
    "             'transistor',\n",
    "             'wood',\n",
    "             'zipper']\n",
    "\n",
    "\n"
   ]
  },
  {
   "cell_type": "markdown",
   "id": "a7ac70a0-e2bc-413e-9000-8fd9887ce19b",
   "metadata": {},
   "source": [
    "# generate cp dataset 1"
   ]
  },
  {
   "cell_type": "code",
   "execution_count": 2,
   "id": "fcff242a-9fab-441e-883f-1ecd65e71340",
   "metadata": {},
   "outputs": [
    {
     "name": "stdout",
     "output_type": "stream",
     "text": [
      "dst dir is not empty, stoping \n"
     ]
    }
   ],
   "source": [
    "DATA_ROOT_DIR=\"/nfsmount/shuai.lyu/workspace/Datasets/MVTec_AD/mvtec_anomaly_detection\"\n",
    "DST_DIR=\"/nfsmount/shuai.lyu/workspace/Datasets/MVTec_AD/cutpaste_data\"\n",
    "if os.path.exists(DST_DIR):\n",
    "    \n",
    "    print(\"dst dir is not empty, stoping \")\n",
    "else:\n",
    "    \n",
    "    print(\"good\")\n",
    "    geometry_transform = transforms.Compose([])\n",
    "    geometry_transform.transforms.append(RandomTranspose())\n",
    "    geometry_transform.transforms.append(RandomResizedCrop(size=(256,256),scale=(0.5, 1.0), ratio=(3. / 4., 4. / 3.)))\n",
    "\n",
    "    before_cutpaste_transform= transforms.Compose([])\n",
    "    before_cutpaste_transform.transforms.append(transforms.ColorJitter(brightness=0.1, contrast=0.1, saturation=0.1, hue=0.1))\n",
    "\n",
    "    transf_after=None\n",
    "    if_smooth_border=0.5\n",
    "    prob_bezier_mask=1\n",
    "    colorJitter=0.1\n",
    "    cut_with_saliency=True\n",
    "\n",
    "\n",
    "    num_generate=2000\n",
    "    for data_type in all_types:\n",
    "        output_dir=DST_DIR+\"/\"+data_type\n",
    "\n",
    "        train_data = MVTecAT(DATA_ROOT_DIR, data_type, transform = geometry_transform, size=256,mode=\"train\")\n",
    "\n",
    "\n",
    "        cp_data,cp_collect_fn=get_cut_paste(\"CutPaste3Way\",train_data,before_cutpaste_transform,transf_after,\n",
    "                         [0.05,0.2],3,width=[6,35], height=[30,75], rotation=[-45,45],\n",
    "                                            cut_with_saliency=True,colorJitter=colorJitter,\n",
    "                                            if_smooth_border=if_smooth_border,prob_bezier_mask=prob_bezier_mask)\n",
    "\n",
    "        run_generator(cp_data,output_dir,num_generate)\n",
    "\n",
    "        # break\n",
    "\n",
    "        \n"
   ]
  },
  {
   "cell_type": "markdown",
   "id": "55fecf9e-c061-4012-b4db-444c07a62dba",
   "metadata": {},
   "source": [
    "# generate cp dataset 2\n",
    "\n",
    "remove RandomResizedCrop"
   ]
  },
  {
   "cell_type": "code",
   "execution_count": 3,
   "id": "249153ec-c9ca-434f-bdfd-112db9898724",
   "metadata": {},
   "outputs": [
    {
     "name": "stdout",
     "output_type": "stream",
     "text": [
      "dst dir is not empty, stoping \n"
     ]
    }
   ],
   "source": [
    "DATA_ROOT_DIR=\"/nfsmount/shuai.lyu/workspace/Datasets/MVTec_AD/mvtec_anomaly_detection\"\n",
    "DST_DIR=\"/nfsmount/shuai.lyu/workspace/Datasets/MVTec_AD/cutpaste_data1\"  \n",
    "if os.path.exists(DST_DIR):\n",
    "    \n",
    "    print(\"dst dir is not empty, stoping \")\n",
    "else:\n",
    "    \n",
    "    print(\"begin...\")\n",
    "    geometry_transform = transforms.Compose([])\n",
    "    geometry_transform.transforms.append(RandomTranspose())\n",
    "    # geometry_transform.transforms.append(RandomResizedCrop(size=(256,256),scale=(0.5, 1.0), ratio=(3. / 4., 4. / 3.)))\n",
    "\n",
    "    before_cutpaste_transform= transforms.Compose([])\n",
    "    before_cutpaste_transform.transforms.append(transforms.ColorJitter(brightness=0.1, contrast=0.1, saturation=0.1, hue=0.1))\n",
    "\n",
    "    transf_after=None\n",
    "    if_smooth_border=0.5\n",
    "    prob_bezier_mask=1\n",
    "    colorJitter=0.1\n",
    "    cut_with_saliency=True\n",
    "\n",
    "\n",
    "    num_generate=2000\n",
    "    for data_type in all_types:\n",
    "        output_dir=DST_DIR+\"/\"+data_type\n",
    "\n",
    "\n",
    "        train_data = MVTecAT(DATA_ROOT_DIR, data_type, transform = geometry_transform, size=256,mode=\"train\")\n",
    "\n",
    "\n",
    "        cp_data,cp_collect_fn=get_cut_paste(\"CutPaste3Way\",train_data,before_cutpaste_transform,transf_after,\n",
    "                         [0.05,0.2],3,width=[6,35], height=[30,75], rotation=[-45,45],\n",
    "                                            cut_with_saliency=True,colorJitter=colorJitter,\n",
    "                                            if_smooth_border=if_smooth_border,prob_bezier_mask=prob_bezier_mask)\n",
    "\n",
    "        run_generator(cp_data,output_dir,num_generate)\n"
   ]
  },
  {
   "cell_type": "code",
   "execution_count": 9,
   "id": "f94deea9-d525-4317-bd74-0a4e26274797",
   "metadata": {},
   "outputs": [
    {
     "name": "stdout",
     "output_type": "stream",
     "text": [
      "found 2000 samples in /nfsmount/shuai.lyu/workspace/Datasets/MVTec_AD/cutpaste_data/bottle \n"
     ]
    }
   ],
   "source": [
    "import matplotlib.pyplot as plt\n",
    "import random\n",
    "import numpy as  np\n",
    "from DMlib.cut_paste import get_cut_paste\n",
    "from torchvision import transforms\n",
    "\n",
    "DATA_ROOT_DIR=\"/nfsmount/shuai.lyu/workspace/Datasets/MVTec_AD/cutpaste_data\"\n",
    "from DMlib.cut_paste import CutPasteAgency,SiameseCutPasteAgency\n",
    "transf_after = transforms.Compose([])\n",
    "transf_after.transforms.append(transforms.ToTensor())\n",
    "transf_after.transforms.append(transforms.Normalize(mean=[0.485, 0.456, 0.406],\n",
    "                                                                std=[0.229, 0.224, 0.225]))\n",
    "\n",
    "# transf_after=None\n",
    "\n",
    "\n",
    "\n",
    "\n",
    "cp_agent= SiameseCutPasteAgency(DATA_ROOT_DIR,\"bottle\",transform_after=transf_after,return_mask=True,unpair=True)\n",
    "    \n",
    "    \n",
    "    \n",
    "# for idx in range(len(cp_agent)):\n",
    "#     idx=random.randint(0,len(cp_agent)-1)\n",
    "#     # item=cp_data[idx]\n",
    "#     item=cp_agent[idx]\n",
    "#     print(item.keys())\n",
    "#     img=item[\"img\"]\n",
    "#     saliency=item[\"saliency\"]\n",
    "#     cp_img=item[\"cp_img\"]\n",
    "#     cp_mask=item[\"cp_img_mask\"]\n",
    "#     cps_img=item[\"cps_img\"]\n",
    "#     cps_mask=item[\"cps_img_mask\"]\n",
    "#     plt.figure(figsize=(20,20))\n",
    "#     plt.subplot(161),plt.imshow(img)\n",
    "#     plt.subplot(162),plt.imshow(saliency)\n",
    "#     plt.subplot(163),plt.imshow(cp_img)\n",
    "#     plt.subplot(164),plt.imshow(cp_mask)\n",
    "#     plt.subplot(165),plt.imshow(cps_img)\n",
    "#     plt.subplot(166),plt.imshow(cps_mask)\n",
    "\n",
    "\n",
    "#     break"
   ]
  },
  {
   "cell_type": "code",
   "execution_count": 5,
   "id": "334ac5bb-c059-48a8-8836-e6f60cd4aa78",
   "metadata": {},
   "outputs": [],
   "source": [
    "# cp3way=CutPaste3Way(train_data,[0.05,0.2],3,width=[6,35], height=[30,75], rotation=[-45,45])\n",
    "# for idx in range(len(cp3way)):\n",
    "#     idx=random.randint(0,len(cp3way)-1)\n",
    "#     item=cp3way[idx]\n",
    "#     print(item.keys())\n",
    "#     img=item[\"img\"]\n",
    "#     masked_img= item[\"cp_ins\"].get_imshow_mask()\n",
    "#     cp_img=item[\"cp_img\"]\n",
    "#     plt.figure(figsize=(20,20))\n",
    "#     plt.subplot(141),plt.imshow(img)\n",
    "#     plt.subplot(142),plt.imshow(masked_img)\n",
    "#     plt.subplot(143),plt.imshow(cp_img)\n",
    "#     # plt.subplot(143),plt.imshow(img)\n",
    "    \n",
    "#     # plt.subplot(144),plt.imshow(img)\n",
    "#     break"
   ]
  },
  {
   "cell_type": "code",
   "execution_count": 6,
   "id": "dea32ff8-f57e-4f54-a1bd-c3e01dde0b19",
   "metadata": {},
   "outputs": [
    {
     "data": {
      "text/plain": [
       "(<AxesSubplot:>, <matplotlib.image.AxesImage at 0x7f7c3c573400>)"
      ]
     },
     "execution_count": 6,
     "metadata": {},
     "output_type": "execute_result"
    },
    {
     "data": {
      "image/png": "[encoded data removed]",
      "text/plain": [
       "<Figure size 2000x2000 with 2 Axes>"
      ]
     },
     "metadata": {},
     "output_type": "display_data"
    }
   ],
   "source": [
    "import cv2\n",
    "def gen_random_contour(points_num, area):\n",
    "    assert points_num >= 3\n",
    "    points_nx2 = np.random.random((points_num, 2)).astype(np.float32)\n",
    "    x_min, y_min = np.mean(points_nx2, axis=0)\n",
    "    points_nx2[:, 0] -= x_min//2\n",
    "    points_nx2[:, 1] -= y_min//2\n",
    "    _, angle_rad = cv2.cartToPolar(points_nx2[:, 0], points_nx2[:, 1])\n",
    "    index = np.argsort(angle_rad.flatten())\n",
    "    points_nx2 = points_nx2[index]\n",
    "\n",
    "    src_area = cv2.contourArea(points_nx2)\n",
    "    scale = area / src_area\n",
    "    points_nx2 *= scale**0.5\n",
    "    \n",
    "    convex_points_nx2 = cv2.convexHull(points_nx2)\n",
    "    convex_points_nx2 = convex_points_nx2[:, 0]\n",
    "    return points_nx2,convex_points_nx2\n",
    "\n",
    "\n",
    "def draw_contour(contour):\n",
    "    contour = contour.astype(np.int32)\n",
    "    max_x, max_y = np.max(contour, axis=0)\n",
    "    w, h = max_x + 1, max_y + 1\n",
    "    # w = min(w, img.shape[1])\n",
    "    # h = min(h, img.shape[0])\n",
    "    border = cv2.drawContours(\n",
    "        np.zeros((h, w), dtype=np.uint8), [contour], -1, (255,), 1\n",
    "    )\n",
    "    return border\n",
    "\n",
    "contour,convex_contour = gen_random_contour(\n",
    "    points_num=random.randint(50, 100),\n",
    "    area=random.randint(4000, 400000)\n",
    ")\n",
    "\n",
    "contour,convex_contour=draw_contour(contour), draw_contour(convex_contour)\n",
    "\n",
    "\n",
    "plt.figure(figsize=(20,20))\n",
    "plt.subplot(151),plt.imshow(contour)\n",
    "plt.subplot(152),plt.imshow(convex_contour)\n"
   ]
  }
 ],
 "metadata": {
  "kernelspec": {
   "display_name": "Python [conda env:torch112]",
   "language": "python",
   "name": "conda-env-torch112-py"
  },
  "language_info": {
   "codemirror_mode": {
    "name": "ipython",
    "version": 3
   },
   "file_extension": ".py",
   "mimetype": "text/x-python",
   "name": "python",
   "nbconvert_exporter": "python",
   "pygments_lexer": "ipython3",
   "version": "3.10.4"
  }
 },
 "nbformat": 4,
 "nbformat_minor": 5
}
