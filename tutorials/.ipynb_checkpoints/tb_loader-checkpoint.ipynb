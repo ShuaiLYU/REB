{
 "cells": [
  {
   "cell_type": "code",
   "execution_count": null,
   "id": "df8afa92-105c-4e3b-89b2-4af773de55ed",
   "metadata": {},
   "outputs": [],
   "source": [
    "all_types = [\n",
    "             'screw',\n",
    "             'pill',\n",
    "             'transistor',\n",
    "    \n",
    "         'cable',\n",
    "         'capsule',\n",
    "         'carpet',\n",
    "\n",
    "         'grid',\n",
    "         'hazelnut',\n",
    "\n",
    "         'metal_nut',\n",
    "\n",
    "         'tile',\n",
    "         'toothbrush',\n",
    "\n",
    "         'wood',\n",
    "        'bottle',\n",
    "             'leather',\n",
    "         'zipper']"
   ]
  },
  {
   "cell_type": "code",
   "execution_count": 35,
   "id": "0e388d29-db4b-4bef-b1ff-06ed752b27b8",
   "metadata": {},
   "outputs": [],
   "source": [
    "import sys,os\n",
    "# sys.path.append(os.path.abspath(\"/nfsmount/shuai.lyu/workspace/Projects/ADLib\"))\n",
    "# workspace=\"/home/lyushuai/Projects/lyus_cutpaste/\"\n",
    "workspace=\"/nfsmount/shuai.lyu/workspace/Projects/lyus_cutpaste/\"\n",
    "sys.path.append(os.path.abspath(workspace))\n",
    "sys.path.append(os.path.abspath(workspace+\"ADLib\"))\n",
    "sys.path.append(os.path.abspath(workspace+\"src\"))\n",
    "\n",
    "import ADLib\n",
    "from ADLib.tb_loader import TBLoader"
   ]
  },
  {
   "cell_type": "markdown",
   "id": "a242a15b-21e6-45f8-8923-5c778d227bca",
   "metadata": {},
   "source": [
    "### exp12_runtime_20220930_220221  o.9711\n",
    "### exp16_runtime_20220930_214834  o.9752\n",
    "\n",
    "### exp15_runtime_20220930_195911  0.8783\n",
    "### exp17_runtime_20221001_142621  0.9758\n",
    "### exp18_runtime_20221001_145739 0.9236\n",
    "\n",
    "### exp19_runtime_20221001_151225 0.8780\n",
    "\n",
    "\n",
    "\n",
    "\n",
    "\n",
    "### /nfsmount/shuai.lyu/workspace/Projects/lyus_cutpaste/OUTPUT/cutpaste_ae/exp002_runtime_20221002_195516\n",
    "15 dataset, mean auc: 0.9789475838343302\n",
    "### /nfsmount/shuai.lyu/workspace/Projects/lyus_cutpaste/OUTPUT/cutpaste_ae/exp004_runtime_20221002_225754\n",
    "15 dataset, mean auc: 0.9769765655199687\n",
    "### /nfsmount/shuai.lyu/workspace/Projects/lyus_cutpaste/OUTPUT/cutpaste_ae/exp005_runtime_20221003_110825\n",
    "15 dataset, mean auc: 0.976823337872823\n",
    "### /nfsmount/shuai.lyu/workspace/Projects/lyus_cutpaste/OUTPUT/cutpaste_ae/exp006_runtime_20221003_172803\n",
    "key:exp006_runtime_20221003_172803, 15 dataset, mean auc: 0.9761669317881266\n",
    "### /nfsmount/shuai.lyu/workspace/Projects/lyus_cutpaste/OUTPUT/cutpaste_ae/exp007_runtime_20221003_233712\n",
    "15 dataset, mean auc: 0.9754067937533061\n",
    "\n",
    "key:exp008_runtime_20221003_234039, 13 dataset, mean auc: 0.9715433074877813\n",
    "\n",
    "### /nfsmount/shuai.lyu/workspace/Projects/lyus_cutpaste/OUTPUT/cutpaste_ae/exp010_runtime_20221004_172917\n",
    "key:exp010_runtime_20221004_172917, 15 dataset, mean auc: 0.9774495124816894"
   ]
  },
  {
   "cell_type": "code",
   "execution_count": 298,
   "id": "d42af49d-fa29-4445-a3a0-cb966b4f9968",
   "metadata": {},
   "outputs": [
    {
     "name": "stdout",
     "output_type": "stream",
     "text": [
      "### /nfsmount/shuai.lyu/workspace/Projects/lyus_cutpaste/OUTPUT/multi_paste/exp005_runtime_20221007_160427\n",
      "key:multi_paste/exp005_runtime_20221007_160427, 15 dataset, mean auc: 0.9728649218877157\n",
      "key:cutpaste_ae/exp002_runtime_20221002_195516, 15 dataset, mean auc: 0.9789475838343302\n"
     ]
    }
   ],
   "source": [
    "\n",
    "\n",
    "\n",
    "import math\n",
    "import numpy as np\n",
    "# root=\"/nfsmount/shuai.lyu/workspace/outputs/exp4\"\n",
    "root=\"/nfsmount/shuai.lyu/workspace/Projects/lyus_cutpaste/OUTPUT/cutpaste_seg/exp3_runtime_20220927_223357\"\n",
    "root=\"/nfsmount/shuai.lyu/workspace/Projects/lyus_cutpaste/OUTPUT/cutpaste_seg/exp6_runtime_20220928_012050\"\n",
    "root=\"/nfsmount/shuai.lyu/workspace/Projects/lyus_cutpaste/OUTPUT/cutpaste_seg/exp12_runtime_20220930_220221\"\n",
    "root=\"/nfsmount/shuai.lyu/workspace/Projects/lyus_cutpaste/OUTPUT/cutpaste_seg/exp19_runtime_20221001_151225\"\n",
    "root=\"/nfsmount/shuai.lyu/workspace/Projects/lyus_cutpaste/OUTPUT/cutpaste_ae/exp005_runtime_20221003_110825\"\n",
    "\n",
    "\n",
    "# root=\"/nfsmount/shuai.lyu/workspace/Projects/lyus_cutpaste/OUTPUT/cutpaste/exp7_runtime_20220926_095658\"\n",
    "\n",
    "\n",
    "\n",
    "import os \n",
    "root=\"/nfsmount/shuai.lyu/workspace/Projects/lyus_cutpaste/OUTPUT/\"\n",
    "exp=\"multi_paste/exp005_runtime_20221007_160427\"\n",
    "compare_exp=\"cutpaste_ae/exp002_runtime_20221002_195516\"\n",
    "# compare_exp=None\n",
    "root=root+exp\n",
    "\n",
    "\n",
    "print(\"### \"+root)\n",
    "def get_mean_auc(key,logdirs):\n",
    "    vals=[]\n",
    "    for logdir in logdirs:\n",
    "        logdir=os.path.join(logdir,os.listdir(logdir)[0])\n",
    "        # if \"tile\" in logdir: continue\n",
    "        tb=TBLoader(logdir)\n",
    "        val=tb.get_vals(\"epo_density_roc_auc\")[-1] #epo_class_roc_auc\n",
    "        vals.append(val)\n",
    "    # print(vals)\n",
    "    print(\"key:{}, {} dataset, mean auc: {}\".format(key,len(vals), np.mean(vals)))\n",
    "    \n",
    "    \n",
    "logdirs=  [   os.path.join(root,dname,\"log\")  for dname in  os.listdir(root) if os.path.isdir(os.path.join(root,dname,\"log\"))]\n",
    "\n",
    "get_mean_auc(exp,logdirs)\n",
    "\n",
    "if compare_exp is not None:\n",
    "    com_logdirs =[ logdir.replace(exp,compare_exp)  for logdir in logdirs]\n",
    "\n",
    "    get_mean_auc(compare_exp,com_logdirs)\n",
    "\n",
    "\n",
    "   "
   ]
  },
  {
   "cell_type": "code",
   "execution_count": 266,
   "id": "fb1fc61a-bfef-4497-bbd2-37fc84e35972",
   "metadata": {},
   "outputs": [
    {
     "name": "stdout",
     "output_type": "stream",
     "text": [
      "RGB\n"
     ]
    },
    {
     "data": {
      "text/plain": [
       "3"
      ]
     },
     "execution_count": 266,
     "metadata": {},
     "output_type": "execute_result"
    }
   ],
   "source": [
    "DATA_DIR=\"/nfsmount/shuai.lyu/workspace/Datasets/MVTec_AD/mvtec_anomaly_detection\"\n",
    "\n",
    "img_path=\"/bottle/train/good/000.png\"\n",
    "\n",
    "from PIL import Image \n",
    "\n",
    "img=Image.open(DATA_DIR+img_path)\n",
    "print(img.mode)\n",
    "\n",
    "len(img.getbands())"
   ]
  },
  {
   "cell_type": "code",
   "execution_count": 265,
   "id": "f7f6e03e-cc29-436f-8d98-ff0772b24a30",
   "metadata": {},
   "outputs": [
    {
     "name": "stdout",
     "output_type": "stream",
     "text": [
      "L\n"
     ]
    }
   ],
   "source": [
    "img1=img.convert(\"L\")\n",
    "img1.getbands()\n",
    "print(img1.mode)\n",
    "assert(img1.mode==\"L\")"
   ]
  },
  {
   "cell_type": "code",
   "execution_count": null,
   "id": "a4371c97-9bbe-484c-a45a-59db09f0a58f",
   "metadata": {},
   "outputs": [],
   "source": []
  }
 ],
 "metadata": {
  "kernelspec": {
   "display_name": "Python [conda env:torch112]",
   "language": "python",
   "name": "conda-env-torch112-py"
  },
  "language_info": {
   "codemirror_mode": {
    "name": "ipython",
    "version": 3
   },
   "file_extension": ".py",
   "mimetype": "text/x-python",
   "name": "python",
   "nbconvert_exporter": "python",
   "pygments_lexer": "ipython3",
   "version": "3.10.4"
  }
 },
 "nbformat": 4,
 "nbformat_minor": 5
}
