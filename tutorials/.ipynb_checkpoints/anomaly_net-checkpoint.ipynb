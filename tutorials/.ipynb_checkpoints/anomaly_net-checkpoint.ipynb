{
 "cells": [
  {
   "cell_type": "code",
   "execution_count": 1,
   "id": "e84b818f-d48a-4f4e-943b-1d2de2cd7509",
   "metadata": {},
   "outputs": [],
   "source": [
    "\n",
    "import sys,os\n",
    "# sys.path.append(os.path.abspath(\"/nfsmount/shuai.lyu/workspace/Projects/ADLib\"))\n",
    "workspace=\"/nfsmount/shuai.lyu/workspace/Projects/lyus_cutpaste/\"\n",
    "# workspace=\"/home/lyushuai/Projects/lyus_cutpaste/\"\n",
    "sys.path.append(os.path.abspath(workspace))\n",
    "sys.path.append(os.path.abspath(workspace+\"ADLib\"))\n",
    "sys.path.append(os.path.abspath(workspace+\"src\"))\n",
    "DATA_DIR=\"/nfsmount/shuai.lyu/workspace/Datasets/MVTec_AD/mvtec_anomaly_detection\"\n"
   ]
  },
  {
   "cell_type": "code",
   "execution_count": 2,
   "id": "1d05079a-c1f4-4f75-b9b3-09124e4e9193",
   "metadata": {},
   "outputs": [
    {
     "name": "stderr",
     "output_type": "stream",
     "text": [
      "/nfsmount/shuai.lyu/Anaconda3/envs/torch112/lib/python3.10/site-packages/tqdm/auto.py:22: TqdmWarning: IProgress not found. Please update jupyter and ipywidgets. See https://ipywidgets.readthedocs.io/en/stable/user_install.html\n",
      "  from .autonotebook import tqdm as notebook_tqdm\n"
     ]
    }
   ],
   "source": [
    "from Models.anomaly_net import *\n"
   ]
  },
  {
   "cell_type": "code",
   "execution_count": 9,
   "id": "9ac39170-62c8-4b74-a180-c2197e7beaaf",
   "metadata": {},
   "outputs": [
    {
     "name": "stderr",
     "output_type": "stream",
     "text": [
      "/nfsmount/shuai.lyu/Anaconda3/envs/torch112/lib/python3.10/site-packages/torchvision/models/_utils.py:208: UserWarning: The parameter 'pretrained' is deprecated since 0.13 and will be removed in 0.15, please use 'weights' instead.\n",
      "  warnings.warn(\n",
      "/nfsmount/shuai.lyu/Anaconda3/envs/torch112/lib/python3.10/site-packages/torchvision/models/_utils.py:223: UserWarning: Arguments other than a weight enum or `None` for 'weights' are deprecated since 0.13 and will be removed in 0.15. The current behavior is equivalent to passing `weights=ResNet18_Weights.IMAGENET1K_V1`. You can also use `weights=ResNet18_Weights.DEFAULT` to get the most up-to-date weights.\n",
      "  warnings.warn(msg)\n"
     ]
    }
   ],
   "source": [
    "sc=SACAnmolayNet(10,3,128)"
   ]
  },
  {
   "cell_type": "code",
   "execution_count": 10,
   "id": "b6896042-1ce9-4abb-b230-d0b586096a06",
   "metadata": {},
   "outputs": [],
   "source": [
    "ipt=torch.randn((10,3,256,256))"
   ]
  },
  {
   "cell_type": "code",
   "execution_count": 12,
   "id": "525eedb2-e4b4-4bab-aa40-775ad38f6641",
   "metadata": {},
   "outputs": [],
   "source": [
    "out=sc(ipt)\n",
    "\n"
   ]
  },
  {
   "cell_type": "code",
   "execution_count": 14,
   "id": "17d19eb9-2bb1-4f32-848d-f0f1a91ca288",
   "metadata": {},
   "outputs": [
    {
     "name": "stdout",
     "output_type": "stream",
     "text": [
      "torch.Size([10, 10])\n",
      "torch.Size([10, 32, 32, 10])\n"
     ]
    }
   ],
   "source": [
    "for item in out:\n",
    "    print(item.shape)"
   ]
  },
  {
   "cell_type": "code",
   "execution_count": 19,
   "id": "c7030772-073d-4fa4-ba78-4c19fae21ce6",
   "metadata": {},
   "outputs": [],
   "source": [
    "\n",
    "sc.set_train_mode(False)\n",
    "embd,out=sc(ipt)"
   ]
  },
  {
   "cell_type": "code",
   "execution_count": 21,
   "id": "0373bfb2-2d5f-4501-91a0-617dec6c30ba",
   "metadata": {},
   "outputs": [
    {
     "name": "stdout",
     "output_type": "stream",
     "text": [
      "torch.Size([10, 512])\n",
      "torch.Size([10, 10])\n",
      "torch.Size([10, 32, 32, 10])\n"
     ]
    }
   ],
   "source": [
    "print(embd.shape)\n",
    "print(out[0].shape)\n",
    "print(out[1].shape)"
   ]
  },
  {
   "cell_type": "code",
   "execution_count": null,
   "id": "ede204d1-52c5-4b89-b86e-7ae0ac16d1c0",
   "metadata": {},
   "outputs": [],
   "source": []
  }
 ],
 "metadata": {
  "kernelspec": {
   "display_name": "Python [conda env:torch112]",
   "language": "python",
   "name": "conda-env-torch112-py"
  },
  "language_info": {
   "codemirror_mode": {
    "name": "ipython",
    "version": 3
   },
   "file_extension": ".py",
   "mimetype": "text/x-python",
   "name": "python",
   "nbconvert_exporter": "python",
   "pygments_lexer": "ipython3",
   "version": "3.10.4"
  }
 },
 "nbformat": 4,
 "nbformat_minor": 5
}
